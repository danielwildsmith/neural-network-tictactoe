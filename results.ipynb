{
 "cells": [
  {
   "cell_type": "markdown",
   "metadata": {},
   "source": [
    "# Final Boards Classification"
   ]
  },
  {
   "cell_type": "code",
   "execution_count": 137,
   "metadata": {},
   "outputs": [],
   "source": [
    "import numpy as np\n",
    "\n",
    "file_path = 'datasets-part1/tictac_final.txt'\n",
    "\n",
    "# Assuming there are no missing values\n",
    "dataset = np.loadtxt(file_path)\n",
    "\n",
    "# If you need to separate the input features from the output feature:\n",
    "X_final = dataset[:, :-1]  # All rows, all columns except the last one\n",
    "y_final = dataset[:, -1]   # All rows, only the last column\n",
    "\n",
    "# Extra Credit 2!\n",
    "# Calculate the number of samples you want (10% of the full dataset)\n",
    "num_samples = int(len(dataset) * 0.1)\n",
    "\n",
    "# Generate random indices without replacement to sample 10% of the dataset\n",
    "random_indices = np.random.choice(len(dataset), size=num_samples, replace=False)\n",
    "\n",
    "# Use the generated indices to create the smaller dataset\n",
    "small_dataset = dataset[random_indices, :]\n",
    "\n",
    "# If you need to separate the input features from the output feature for the smaller dataset:\n",
    "X_small = small_dataset[:, :-1]  # All rows, all columns except the last one for the small dataset\n",
    "y_small = small_dataset[:, -1]   # All rows, only the last column for the small dataset\n"
   ]
  },
  {
   "cell_type": "markdown",
   "metadata": {},
   "source": [
    "## Linear SVC"
   ]
  },
  {
   "cell_type": "code",
   "execution_count": 138,
   "metadata": {},
   "outputs": [],
   "source": [
    "from sklearn.model_selection import train_test_split\n",
    "from sklearn.svm import LinearSVC\n",
    "X_train, X_test, y_train, y_test = train_test_split(X_final, y_final, test_size=0.2, random_state=42)\n",
    "\n",
    "clf = LinearSVC(max_iter=10000)  # Increase max_iter if convergence warnings occur\n",
    "\n",
    "# Train the model\n",
    "clf.fit(X_train, y_train)\n",
    "\n",
    "# Make predictions on the test set\n",
    "predictions = clf.predict(X_test)"
   ]
  },
  {
   "cell_type": "markdown",
   "metadata": {},
   "source": [
    "#### Cross-Validation"
   ]
  },
  {
   "cell_type": "code",
   "execution_count": 139,
   "metadata": {},
   "outputs": [
    {
     "name": "stdout",
     "output_type": "stream",
     "text": [
      "LinearSVC Cross-validation accuracy scores: [0.96875    0.984375   0.97395833 0.97395833 0.97916667 0.984375\n",
      " 0.99479167 0.99479167 0.97916667 0.97395833]\n",
      "Mean accuracy: 0.9807291666666668\n",
      "Standard deviation: 0.008414320011147641\n"
     ]
    }
   ],
   "source": [
    "from sklearn.model_selection import cross_val_score, ShuffleSplit\n",
    "\n",
    "# Define the cross-validation strategy and ensure shuffling\n",
    "cv_strategy = ShuffleSplit(n_splits=10, test_size=0.2, random_state=42)\n",
    "\n",
    "accuracy_scores_svc = cross_val_score(clf, X_final, y_final, cv=cv_strategy)\n",
    "\n",
    "# Report cross-validation results\n",
    "print(\"LinearSVC Cross-validation accuracy scores:\", accuracy_scores_svc)\n",
    "print(\"Mean accuracy:\", accuracy_scores_svc.mean())\n",
    "print(\"Standard deviation:\", accuracy_scores_svc.std())"
   ]
  },
  {
   "cell_type": "markdown",
   "metadata": {},
   "source": [
    "#### Confusion Matrix"
   ]
  },
  {
   "cell_type": "code",
   "execution_count": 140,
   "metadata": {},
   "outputs": [
    {
     "data": {
      "text/plain": [
       "array([[0.91044776, 0.08955224],\n",
       "       [0.        , 1.        ]])"
      ]
     },
     "execution_count": 140,
     "metadata": {},
     "output_type": "execute_result"
    }
   ],
   "source": [
    "from sklearn.metrics import confusion_matrix\n",
    "confusion_matrix(y_test, predictions, normalize='true')"
   ]
  },
  {
   "cell_type": "markdown",
   "metadata": {},
   "source": [
    "#### Extra Credit 2: 1/10 of training set"
   ]
  },
  {
   "cell_type": "code",
   "execution_count": 141,
   "metadata": {},
   "outputs": [
    {
     "name": "stdout",
     "output_type": "stream",
     "text": [
      "LinearSVC Cross-validation accuracy scores w/ 1/10 dataset: [0.94736842 1.         1.         0.94736842 1.         0.94736842\n",
      " 1.         1.         1.         0.94736842]\n",
      "Mean accuracy w/ 1/10 dataset: 0.9789473684210526\n",
      "Standard deviation w/ 1/10 dataset: 0.025784102555612427\n"
     ]
    }
   ],
   "source": [
    "X_train_small, X_test_small, y_train_small, y_test_small = train_test_split(X_small, y_small, test_size=0.2, random_state=42)\n",
    "\n",
    "clf = LinearSVC(max_iter=10000)  # Increase max_iter if convergence warnings occur\n",
    "\n",
    "# Train the model\n",
    "clf.fit(X_train_small, y_train_small)\n",
    "\n",
    "# Make predictions on the test set\n",
    "predictions = clf.predict(X_test_small)\n",
    "\n",
    "accuracy_scores_svc = cross_val_score(clf, X_small, y_small, cv=cv_strategy)\n",
    "\n",
    "# Report cross-validation results\n",
    "print(\"LinearSVC Cross-validation accuracy scores w/ 1/10 dataset:\", accuracy_scores_svc)\n",
    "print(\"Mean accuracy w/ 1/10 dataset:\", accuracy_scores_svc.mean())\n",
    "print(\"Standard deviation w/ 1/10 dataset:\", accuracy_scores_svc.std())"
   ]
  },
  {
   "cell_type": "markdown",
   "metadata": {},
   "source": [
    "To my surprise, the mean accuracy did not really change. There were also instances within the cross-validation where it was 100% accurate, but when the entire dataset was used to train the model, it was never 100% accurate. I wonder if this is an instance of overfitting, where the model is fitted too closely to the limited data it has access to, since when provided the rest of the data, the accuracy is not quite as high."
   ]
  },
  {
   "cell_type": "markdown",
   "metadata": {},
   "source": [
    "## K-Nearest Neighbors"
   ]
  },
  {
   "cell_type": "code",
   "execution_count": 142,
   "metadata": {},
   "outputs": [],
   "source": [
    "from sklearn.neighbors import KNeighborsClassifier\n",
    "k = 3  # Number of neighbors\n",
    "knn_clf = KNeighborsClassifier(n_neighbors=k)\n",
    "\n",
    "knn_clf.fit(X_train, y_train)\n",
    "predictions_knn = knn_clf.predict(X_test)"
   ]
  },
  {
   "cell_type": "code",
   "execution_count": 143,
   "metadata": {},
   "outputs": [
    {
     "name": "stdout",
     "output_type": "stream",
     "text": [
      "KNN Cross-validation accuracy scores: [1. 1. 1. 1. 1. 1. 1. 1. 1. 1.]\n",
      "Mean accuracy: 1.0\n",
      "Standard deviation: 0.0\n"
     ]
    }
   ],
   "source": [
    "accuracy_scores_knn = cross_val_score(knn_clf, X_final, y_final, cv=cv_strategy)\n",
    "\n",
    "print(\"KNN Cross-validation accuracy scores:\", accuracy_scores_knn)\n",
    "print(\"Mean accuracy:\", accuracy_scores_knn.mean())\n",
    "print(\"Standard deviation:\", accuracy_scores_knn.std())"
   ]
  },
  {
   "cell_type": "code",
   "execution_count": 144,
   "metadata": {},
   "outputs": [
    {
     "data": {
      "text/plain": [
       "array([[1., 0.],\n",
       "       [0., 1.]])"
      ]
     },
     "execution_count": 144,
     "metadata": {},
     "output_type": "execute_result"
    }
   ],
   "source": [
    "confusion_matrix(y_test, predictions_knn, normalize='true')"
   ]
  },
  {
   "cell_type": "markdown",
   "metadata": {},
   "source": [
    "## Multilayer Perceptron"
   ]
  },
  {
   "cell_type": "code",
   "execution_count": 145,
   "metadata": {},
   "outputs": [],
   "source": [
    "from sklearn.neural_network import MLPClassifier\n",
    "mlp_clf = MLPClassifier(hidden_layer_sizes=(128, 64, 32), max_iter=1000, alpha=0.001, random_state=42)\n",
    "\n",
    "mlp_clf.fit(X_train, y_train)\n",
    "predictions_mlp = mlp_clf.predict(X_test)"
   ]
  },
  {
   "cell_type": "code",
   "execution_count": 146,
   "metadata": {},
   "outputs": [
    {
     "name": "stdout",
     "output_type": "stream",
     "text": [
      "MLP Cross-validation accuracy scores: [0.98958333 0.984375   0.984375   0.98958333 0.98958333 0.99479167\n",
      " 1.         1.         1.         0.98958333]\n",
      "Mean accuracy: 0.9921875000000002\n",
      "Standard deviation: 0.005823093691405694\n"
     ]
    }
   ],
   "source": [
    "accuracy_scores_mlp = cross_val_score(mlp_clf, X_final, y_final, cv=cv_strategy)\n",
    "\n",
    "print(\"MLP Cross-validation accuracy scores:\", accuracy_scores_mlp)\n",
    "print(\"Mean accuracy:\", accuracy_scores_mlp.mean())\n",
    "print(\"Standard deviation:\", accuracy_scores_mlp.std())"
   ]
  },
  {
   "cell_type": "code",
   "execution_count": 147,
   "metadata": {},
   "outputs": [
    {
     "data": {
      "text/plain": [
       "array([[0.97014925, 0.02985075],\n",
       "       [0.        , 1.        ]])"
      ]
     },
     "execution_count": 147,
     "metadata": {},
     "output_type": "execute_result"
    }
   ],
   "source": [
    "mlp_cm = confusion_matrix(y_test, predictions_mlp, normalize='true')\n",
    "mlp_cm"
   ]
  },
  {
   "cell_type": "code",
   "execution_count": 148,
   "metadata": {},
   "outputs": [
    {
     "name": "stdout",
     "output_type": "stream",
     "text": [
      "MLP Confusion Matrix Accuracy:  0.9850746268656716\n"
     ]
    }
   ],
   "source": [
    "print(\"MLP Confusion Matrix Accuracy: \", (mlp_cm[0][0] + mlp_cm[1][1]) / 2)"
   ]
  },
  {
   "cell_type": "markdown",
   "metadata": {},
   "source": [
    "# Intermediate Boards Optimal Play (Single Label)"
   ]
  },
  {
   "cell_type": "code",
   "execution_count": 149,
   "metadata": {},
   "outputs": [],
   "source": [
    "file_path = 'datasets-part1/tictac_single.txt'\n",
    "\n",
    "dataset = np.loadtxt(file_path)\n",
    "\n",
    "# If you need to separate the input features from the output feature:\n",
    "X_single = dataset[:, :-1]  # All rows, all columns except the last one\n",
    "y_single = dataset[:, -1]   # All rows, only the last column"
   ]
  },
  {
   "cell_type": "markdown",
   "metadata": {},
   "source": [
    "## Linear SVC"
   ]
  },
  {
   "cell_type": "code",
   "execution_count": 150,
   "metadata": {},
   "outputs": [],
   "source": [
    "X_train, X_test, y_train, y_test = train_test_split(X_single, y_single, test_size=0.2, random_state=42)\n",
    "\n",
    "clf = LinearSVC(max_iter=10000)  # Increase max_iter if convergence warnings occur\n",
    "\n",
    "# Train the model\n",
    "clf.fit(X_train, y_train)\n",
    "\n",
    "# Make predictions on the test set\n",
    "predictions = clf.predict(X_test)"
   ]
  },
  {
   "cell_type": "markdown",
   "metadata": {},
   "source": [
    "#### Cross-Validation"
   ]
  },
  {
   "cell_type": "code",
   "execution_count": 151,
   "metadata": {},
   "outputs": [
    {
     "name": "stdout",
     "output_type": "stream",
     "text": [
      "LinearSVC Cross-validation accuracy scores: [0.2402746  0.25629291 0.26010679 0.24637681 0.2402746  0.23646072\n",
      " 0.24713959 0.23493516 0.23951182 0.23493516]\n",
      "Mean accuracy: 0.24363081617086194\n",
      "Standard deviation: 0.008329295923550695\n"
     ]
    }
   ],
   "source": [
    "cv_strategy = ShuffleSplit(n_splits=10, test_size=0.2, random_state=42)\n",
    "\n",
    "accuracy_scores_svc = cross_val_score(clf, X_single, y_single, cv=cv_strategy, scoring=\"accuracy\")\n",
    "\n",
    "# Report cross-validation results\n",
    "print(\"LinearSVC Cross-validation accuracy scores:\", accuracy_scores_svc)\n",
    "print(\"Mean accuracy:\", accuracy_scores_svc.mean())\n",
    "print(\"Standard deviation:\", accuracy_scores_svc.std())"
   ]
  },
  {
   "cell_type": "markdown",
   "metadata": {},
   "source": [
    "#### Confusion Matrix"
   ]
  },
  {
   "cell_type": "code",
   "execution_count": 152,
   "metadata": {},
   "outputs": [
    {
     "data": {
      "text/plain": [
       "array([[0.9380805 , 0.        , 0.00309598, 0.        , 0.05882353,\n",
       "        0.        , 0.        , 0.        , 0.        ],\n",
       "       [0.94047619, 0.00595238, 0.0297619 , 0.        , 0.02380952,\n",
       "        0.        , 0.        , 0.        , 0.        ],\n",
       "       [0.97860963, 0.        , 0.00534759, 0.        , 0.01604278,\n",
       "        0.        , 0.        , 0.        , 0.        ],\n",
       "       [0.92307692, 0.        , 0.04273504, 0.        , 0.03418803,\n",
       "        0.        , 0.        , 0.        , 0.        ],\n",
       "       [0.92574257, 0.0049505 , 0.01980198, 0.        , 0.04950495,\n",
       "        0.        , 0.        , 0.        , 0.        ],\n",
       "       [0.93421053, 0.        , 0.03947368, 0.        , 0.02631579,\n",
       "        0.        , 0.        , 0.        , 0.        ],\n",
       "       [0.90909091, 0.01010101, 0.02020202, 0.        , 0.06060606,\n",
       "        0.        , 0.        , 0.        , 0.        ],\n",
       "       [0.84      , 0.        , 0.02      , 0.        , 0.14      ,\n",
       "        0.        , 0.        , 0.        , 0.        ],\n",
       "       [0.98876404, 0.01123596, 0.        , 0.        , 0.        ,\n",
       "        0.        , 0.        , 0.        , 0.        ]])"
      ]
     },
     "execution_count": 152,
     "metadata": {},
     "output_type": "execute_result"
    }
   ],
   "source": [
    "confusion_matrix(y_test, predictions, normalize='true')"
   ]
  },
  {
   "cell_type": "markdown",
   "metadata": {},
   "source": [
    "## K-Nearest Neighbors"
   ]
  },
  {
   "cell_type": "code",
   "execution_count": 153,
   "metadata": {},
   "outputs": [],
   "source": [
    "k = 3  # Number of neighbors\n",
    "knn_clf = KNeighborsClassifier(n_neighbors=k)\n",
    "\n",
    "knn_clf.fit(X_train, y_train)\n",
    "predictions_knn = knn_clf.predict(X_test)"
   ]
  },
  {
   "cell_type": "markdown",
   "metadata": {},
   "source": [
    "#### Cross Validation"
   ]
  },
  {
   "cell_type": "code",
   "execution_count": 154,
   "metadata": {},
   "outputs": [
    {
     "name": "stdout",
     "output_type": "stream",
     "text": [
      "KNN Cross-validation accuracy scores: [1. 1. 1. 1. 1. 1. 1. 1. 1. 1.]\n",
      "Mean accuracy: 1.0\n",
      "Standard deviation: 0.0\n"
     ]
    }
   ],
   "source": [
    "accuracy_scores_knn = cross_val_score(knn_clf, X_final, y_final, cv=cv_strategy, scoring=\"accuracy\")\n",
    "\n",
    "print(\"KNN Cross-validation accuracy scores:\", accuracy_scores_knn)\n",
    "print(\"Mean accuracy:\", accuracy_scores_knn.mean())\n",
    "print(\"Standard deviation:\", accuracy_scores_knn.std())"
   ]
  },
  {
   "cell_type": "markdown",
   "metadata": {},
   "source": [
    "#### Confusion Matrix"
   ]
  },
  {
   "cell_type": "code",
   "execution_count": 155,
   "metadata": {},
   "outputs": [
    {
     "data": {
      "text/plain": [
       "array([[0.86687307, 0.00309598, 0.03405573, 0.00928793, 0.05882353,\n",
       "        0.        , 0.01547988, 0.0123839 , 0.        ],\n",
       "       [0.07738095, 0.70238095, 0.04166667, 0.04166667, 0.06547619,\n",
       "        0.01190476, 0.0297619 , 0.01190476, 0.01785714],\n",
       "       [0.14438503, 0.04278075, 0.75935829, 0.01069519, 0.02139037,\n",
       "        0.00534759, 0.01069519, 0.00534759, 0.        ],\n",
       "       [0.11111111, 0.08547009, 0.06837607, 0.66666667, 0.03418803,\n",
       "        0.00854701, 0.01709402, 0.        , 0.00854701],\n",
       "       [0.0990099 , 0.05445545, 0.01980198, 0.01980198, 0.78217822,\n",
       "        0.        , 0.00990099, 0.0049505 , 0.00990099],\n",
       "       [0.10526316, 0.11842105, 0.02631579, 0.        , 0.01315789,\n",
       "        0.69736842, 0.        , 0.        , 0.03947368],\n",
       "       [0.12121212, 0.04040404, 0.07070707, 0.06060606, 0.04040404,\n",
       "        0.01010101, 0.65656566, 0.        , 0.        ],\n",
       "       [0.1       , 0.1       , 0.        , 0.06      , 0.02      ,\n",
       "        0.02      , 0.        , 0.66      , 0.04      ],\n",
       "       [0.1011236 , 0.05617978, 0.03370787, 0.04494382, 0.01123596,\n",
       "        0.02247191, 0.        , 0.04494382, 0.68539326]])"
      ]
     },
     "execution_count": 155,
     "metadata": {},
     "output_type": "execute_result"
    }
   ],
   "source": [
    "confusion_matrix(y_test, predictions_knn, normalize='true')"
   ]
  },
  {
   "cell_type": "markdown",
   "metadata": {},
   "source": [
    "## Multilayer Perceptron"
   ]
  },
  {
   "cell_type": "code",
   "execution_count": 156,
   "metadata": {},
   "outputs": [],
   "source": [
    "mlp_clf = MLPClassifier(hidden_layer_sizes=(100,), max_iter=10000, alpha=0.001, solver='adam', random_state=42)\n",
    "\n",
    "mlp_clf.fit(X_train, y_train)\n",
    "predictions_mlp = mlp_clf.predict(X_test)"
   ]
  },
  {
   "cell_type": "code",
   "execution_count": 157,
   "metadata": {},
   "outputs": [
    {
     "name": "stdout",
     "output_type": "stream",
     "text": [
      "MLP Cross-validation accuracy scores: [0.97395833 0.984375   0.97395833 0.97916667 0.97916667 0.98958333\n",
      " 0.99479167 1.         0.97916667 0.97916667]\n",
      "Mean accuracy: 0.9833333333333332\n",
      "Standard deviation: 0.00833333333333333\n"
     ]
    }
   ],
   "source": [
    "accuracy_scores_mlp = cross_val_score(mlp_clf, X_final, y_final, cv=cv_strategy, scoring=\"accuracy\")\n",
    "\n",
    "print(\"MLP Cross-validation accuracy scores:\", accuracy_scores_mlp)\n",
    "print(\"Mean accuracy:\", accuracy_scores_mlp.mean())\n",
    "print(\"Standard deviation:\", accuracy_scores_mlp.std())"
   ]
  },
  {
   "cell_type": "code",
   "execution_count": 158,
   "metadata": {},
   "outputs": [
    {
     "data": {
      "text/plain": [
       "array([[0.95975232, 0.        , 0.00619195, 0.00309598, 0.02167183,\n",
       "        0.        , 0.00619195, 0.00309598, 0.        ],\n",
       "       [0.01190476, 0.91666667, 0.01785714, 0.01190476, 0.02380952,\n",
       "        0.        , 0.01190476, 0.        , 0.00595238],\n",
       "       [0.04278075, 0.01069519, 0.89839572, 0.01604278, 0.01604278,\n",
       "        0.        , 0.00534759, 0.00534759, 0.00534759],\n",
       "       [0.02564103, 0.00854701, 0.        , 0.93162393, 0.00854701,\n",
       "        0.        , 0.00854701, 0.00854701, 0.00854701],\n",
       "       [0.04455446, 0.0049505 , 0.0049505 , 0.        , 0.93069307,\n",
       "        0.00990099, 0.0049505 , 0.        , 0.        ],\n",
       "       [0.        , 0.03947368, 0.01315789, 0.02631579, 0.        ,\n",
       "        0.92105263, 0.        , 0.        , 0.        ],\n",
       "       [0.01010101, 0.01010101, 0.01010101, 0.02020202, 0.        ,\n",
       "        0.        , 0.93939394, 0.        , 0.01010101],\n",
       "       [0.06      , 0.04      , 0.        , 0.06      , 0.02      ,\n",
       "        0.        , 0.        , 0.82      , 0.        ],\n",
       "       [0.01123596, 0.        , 0.03370787, 0.01123596, 0.        ,\n",
       "        0.        , 0.        , 0.02247191, 0.92134831]])"
      ]
     },
     "execution_count": 158,
     "metadata": {},
     "output_type": "execute_result"
    }
   ],
   "source": [
    "mlp_cm = confusion_matrix(y_test, predictions_mlp, normalize='true')\n",
    "mlp_cm"
   ]
  },
  {
   "cell_type": "markdown",
   "metadata": {},
   "source": [
    "# Intermediate boards optimal play (multi label)"
   ]
  },
  {
   "cell_type": "code",
   "execution_count": 159,
   "metadata": {},
   "outputs": [],
   "source": [
    "from sklearn.multioutput import MultiOutputRegressor\n",
    "from sklearn.metrics import mean_squared_error\n",
    "\n",
    "file_path = 'datasets-part1/tictac_multi.txt'\n",
    "dataset = np.loadtxt(file_path)\n",
    "\n",
    "X = dataset[:, :9]  # Board configurations\n",
    "Y = dataset[:, 9:]  # Optimal moves, multi-label"
   ]
  },
  {
   "cell_type": "code",
   "execution_count": 160,
   "metadata": {},
   "outputs": [],
   "source": [
    "X_train, X_test, Y_train, Y_test = train_test_split(X, Y, test_size=0.2, random_state=42)"
   ]
  },
  {
   "cell_type": "markdown",
   "metadata": {},
   "source": [
    "## KNN Regressor"
   ]
  },
  {
   "cell_type": "code",
   "execution_count": 161,
   "metadata": {},
   "outputs": [
    {
     "data": {
      "text/html": [
       "<style>#sk-container-id-13 {color: black;background-color: white;}#sk-container-id-13 pre{padding: 0;}#sk-container-id-13 div.sk-toggleable {background-color: white;}#sk-container-id-13 label.sk-toggleable__label {cursor: pointer;display: block;width: 100%;margin-bottom: 0;padding: 0.3em;box-sizing: border-box;text-align: center;}#sk-container-id-13 label.sk-toggleable__label-arrow:before {content: \"▸\";float: left;margin-right: 0.25em;color: #696969;}#sk-container-id-13 label.sk-toggleable__label-arrow:hover:before {color: black;}#sk-container-id-13 div.sk-estimator:hover label.sk-toggleable__label-arrow:before {color: black;}#sk-container-id-13 div.sk-toggleable__content {max-height: 0;max-width: 0;overflow: hidden;text-align: left;background-color: #f0f8ff;}#sk-container-id-13 div.sk-toggleable__content pre {margin: 0.2em;color: black;border-radius: 0.25em;background-color: #f0f8ff;}#sk-container-id-13 input.sk-toggleable__control:checked~div.sk-toggleable__content {max-height: 200px;max-width: 100%;overflow: auto;}#sk-container-id-13 input.sk-toggleable__control:checked~label.sk-toggleable__label-arrow:before {content: \"▾\";}#sk-container-id-13 div.sk-estimator input.sk-toggleable__control:checked~label.sk-toggleable__label {background-color: #d4ebff;}#sk-container-id-13 div.sk-label input.sk-toggleable__control:checked~label.sk-toggleable__label {background-color: #d4ebff;}#sk-container-id-13 input.sk-hidden--visually {border: 0;clip: rect(1px 1px 1px 1px);clip: rect(1px, 1px, 1px, 1px);height: 1px;margin: -1px;overflow: hidden;padding: 0;position: absolute;width: 1px;}#sk-container-id-13 div.sk-estimator {font-family: monospace;background-color: #f0f8ff;border: 1px dotted black;border-radius: 0.25em;box-sizing: border-box;margin-bottom: 0.5em;}#sk-container-id-13 div.sk-estimator:hover {background-color: #d4ebff;}#sk-container-id-13 div.sk-parallel-item::after {content: \"\";width: 100%;border-bottom: 1px solid gray;flex-grow: 1;}#sk-container-id-13 div.sk-label:hover label.sk-toggleable__label {background-color: #d4ebff;}#sk-container-id-13 div.sk-serial::before {content: \"\";position: absolute;border-left: 1px solid gray;box-sizing: border-box;top: 0;bottom: 0;left: 50%;z-index: 0;}#sk-container-id-13 div.sk-serial {display: flex;flex-direction: column;align-items: center;background-color: white;padding-right: 0.2em;padding-left: 0.2em;position: relative;}#sk-container-id-13 div.sk-item {position: relative;z-index: 1;}#sk-container-id-13 div.sk-parallel {display: flex;align-items: stretch;justify-content: center;background-color: white;position: relative;}#sk-container-id-13 div.sk-item::before, #sk-container-id-13 div.sk-parallel-item::before {content: \"\";position: absolute;border-left: 1px solid gray;box-sizing: border-box;top: 0;bottom: 0;left: 50%;z-index: -1;}#sk-container-id-13 div.sk-parallel-item {display: flex;flex-direction: column;z-index: 1;position: relative;background-color: white;}#sk-container-id-13 div.sk-parallel-item:first-child::after {align-self: flex-end;width: 50%;}#sk-container-id-13 div.sk-parallel-item:last-child::after {align-self: flex-start;width: 50%;}#sk-container-id-13 div.sk-parallel-item:only-child::after {width: 0;}#sk-container-id-13 div.sk-dashed-wrapped {border: 1px dashed gray;margin: 0 0.4em 0.5em 0.4em;box-sizing: border-box;padding-bottom: 0.4em;background-color: white;}#sk-container-id-13 div.sk-label label {font-family: monospace;font-weight: bold;display: inline-block;line-height: 1.2em;}#sk-container-id-13 div.sk-label-container {text-align: center;}#sk-container-id-13 div.sk-container {/* jupyter's `normalize.less` sets `[hidden] { display: none; }` but bootstrap.min.css set `[hidden] { display: none !important; }` so we also need the `!important` here to be able to override the default hidden behavior on the sphinx rendered scikit-learn.org. See: https://github.com/scikit-learn/scikit-learn/issues/21755 */display: inline-block !important;position: relative;}#sk-container-id-13 div.sk-text-repr-fallback {display: none;}</style><div id=\"sk-container-id-13\" class=\"sk-top-container\"><div class=\"sk-text-repr-fallback\"><pre>MultiOutputRegressor(estimator=KNeighborsRegressor(n_neighbors=3,\n",
       "                                                   weights=&#x27;distance&#x27;))</pre><b>In a Jupyter environment, please rerun this cell to show the HTML representation or trust the notebook. <br />On GitHub, the HTML representation is unable to render, please try loading this page with nbviewer.org.</b></div><div class=\"sk-container\" hidden><div class=\"sk-item sk-dashed-wrapped\"><div class=\"sk-label-container\"><div class=\"sk-label sk-toggleable\"><input class=\"sk-toggleable__control sk-hidden--visually\" id=\"sk-estimator-id-37\" type=\"checkbox\" ><label for=\"sk-estimator-id-37\" class=\"sk-toggleable__label sk-toggleable__label-arrow\">MultiOutputRegressor</label><div class=\"sk-toggleable__content\"><pre>MultiOutputRegressor(estimator=KNeighborsRegressor(n_neighbors=3,\n",
       "                                                   weights=&#x27;distance&#x27;))</pre></div></div></div><div class=\"sk-parallel\"><div class=\"sk-parallel-item\"><div class=\"sk-item\"><div class=\"sk-label-container\"><div class=\"sk-label sk-toggleable\"><input class=\"sk-toggleable__control sk-hidden--visually\" id=\"sk-estimator-id-38\" type=\"checkbox\" ><label for=\"sk-estimator-id-38\" class=\"sk-toggleable__label sk-toggleable__label-arrow\">estimator: KNeighborsRegressor</label><div class=\"sk-toggleable__content\"><pre>KNeighborsRegressor(n_neighbors=3, weights=&#x27;distance&#x27;)</pre></div></div></div><div class=\"sk-serial\"><div class=\"sk-item\"><div class=\"sk-estimator sk-toggleable\"><input class=\"sk-toggleable__control sk-hidden--visually\" id=\"sk-estimator-id-39\" type=\"checkbox\" ><label for=\"sk-estimator-id-39\" class=\"sk-toggleable__label sk-toggleable__label-arrow\">KNeighborsRegressor</label><div class=\"sk-toggleable__content\"><pre>KNeighborsRegressor(n_neighbors=3, weights=&#x27;distance&#x27;)</pre></div></div></div></div></div></div></div></div></div></div>"
      ],
      "text/plain": [
       "MultiOutputRegressor(estimator=KNeighborsRegressor(n_neighbors=3,\n",
       "                                                   weights='distance'))"
      ]
     },
     "execution_count": 161,
     "metadata": {},
     "output_type": "execute_result"
    }
   ],
   "source": [
    "from sklearn.neighbors import KNeighborsRegressor\n",
    "\n",
    "knn_regressor = MultiOutputRegressor(KNeighborsRegressor(n_neighbors=3, weights='distance'))\n",
    "knn_regressor.fit(X_train, Y_train)"
   ]
  },
  {
   "cell_type": "code",
   "execution_count": 162,
   "metadata": {},
   "outputs": [
    {
     "name": "stdout",
     "output_type": "stream",
     "text": [
      "KNN Regressor Root Mean Squared Error: 0.18973017599190165\n"
     ]
    }
   ],
   "source": [
    "Y_pred_knn = knn_regressor.predict(X_test)\n",
    "\n",
    "rmse = mean_squared_error(Y_test, Y_pred_knn) ** 0.5\n",
    "print(f\"KNN Regressor Root Mean Squared Error: {rmse}\")"
   ]
  },
  {
   "cell_type": "markdown",
   "metadata": {},
   "source": [
    "## Linear Regression (implemented w/ Normal equations)"
   ]
  },
  {
   "cell_type": "code",
   "execution_count": 163,
   "metadata": {},
   "outputs": [
    {
     "name": "stdout",
     "output_type": "stream",
     "text": [
      "Mean RMSE using Normal Equations: 0.4096186209204892\n"
     ]
    }
   ],
   "source": [
    "# from sklearn.linear_model import LinearRegression\n",
    "# linear_regressor = MultiOutputRegressor(LinearRegression())\n",
    "# linear_regressor.fit(X_train, Y_train)\n",
    "\n",
    "X_lin = dataset[:, :9]  # Board configurations\n",
    "Y_lin = dataset[:, 9:]  # Optimal moves, multi-label\n",
    "\n",
    "# Add Bias Term\n",
    "X_b = np.c_[np.ones((X_lin.shape[0], 1)), X_lin]  # Add 1s column\n",
    "\n",
    "X_train_lin, X_test_lin, Y_train_lin, Y_test_lin = train_test_split(X_b, Y_lin, test_size=0.2, random_state=42)\n",
    "\n",
    "# Applying Normal Equation for each output label\n",
    "theta_best = np.linalg.inv(X_train_lin.T.dot(X_train_lin)).dot(X_train_lin.T).dot(Y_train_lin)\n",
    "\n",
    "Y_pred_lin = X_test_lin.dot(theta_best)\n",
    "\n",
    "# Calculating RMSE for each output label and then taking the mean\n",
    "rmse = np.sqrt(mean_squared_error(Y_test_lin, Y_pred_lin, multioutput='raw_values'))\n",
    "mean_rmse = np.mean(rmse)\n",
    "print(f\"Mean RMSE using Normal Equations: {mean_rmse}\")"
   ]
  },
  {
   "cell_type": "markdown",
   "metadata": {},
   "source": [
    "## Multilayer Perceptron"
   ]
  },
  {
   "cell_type": "code",
   "execution_count": 164,
   "metadata": {},
   "outputs": [
    {
     "data": {
      "text/html": [
       "<style>#sk-container-id-14 {color: black;background-color: white;}#sk-container-id-14 pre{padding: 0;}#sk-container-id-14 div.sk-toggleable {background-color: white;}#sk-container-id-14 label.sk-toggleable__label {cursor: pointer;display: block;width: 100%;margin-bottom: 0;padding: 0.3em;box-sizing: border-box;text-align: center;}#sk-container-id-14 label.sk-toggleable__label-arrow:before {content: \"▸\";float: left;margin-right: 0.25em;color: #696969;}#sk-container-id-14 label.sk-toggleable__label-arrow:hover:before {color: black;}#sk-container-id-14 div.sk-estimator:hover label.sk-toggleable__label-arrow:before {color: black;}#sk-container-id-14 div.sk-toggleable__content {max-height: 0;max-width: 0;overflow: hidden;text-align: left;background-color: #f0f8ff;}#sk-container-id-14 div.sk-toggleable__content pre {margin: 0.2em;color: black;border-radius: 0.25em;background-color: #f0f8ff;}#sk-container-id-14 input.sk-toggleable__control:checked~div.sk-toggleable__content {max-height: 200px;max-width: 100%;overflow: auto;}#sk-container-id-14 input.sk-toggleable__control:checked~label.sk-toggleable__label-arrow:before {content: \"▾\";}#sk-container-id-14 div.sk-estimator input.sk-toggleable__control:checked~label.sk-toggleable__label {background-color: #d4ebff;}#sk-container-id-14 div.sk-label input.sk-toggleable__control:checked~label.sk-toggleable__label {background-color: #d4ebff;}#sk-container-id-14 input.sk-hidden--visually {border: 0;clip: rect(1px 1px 1px 1px);clip: rect(1px, 1px, 1px, 1px);height: 1px;margin: -1px;overflow: hidden;padding: 0;position: absolute;width: 1px;}#sk-container-id-14 div.sk-estimator {font-family: monospace;background-color: #f0f8ff;border: 1px dotted black;border-radius: 0.25em;box-sizing: border-box;margin-bottom: 0.5em;}#sk-container-id-14 div.sk-estimator:hover {background-color: #d4ebff;}#sk-container-id-14 div.sk-parallel-item::after {content: \"\";width: 100%;border-bottom: 1px solid gray;flex-grow: 1;}#sk-container-id-14 div.sk-label:hover label.sk-toggleable__label {background-color: #d4ebff;}#sk-container-id-14 div.sk-serial::before {content: \"\";position: absolute;border-left: 1px solid gray;box-sizing: border-box;top: 0;bottom: 0;left: 50%;z-index: 0;}#sk-container-id-14 div.sk-serial {display: flex;flex-direction: column;align-items: center;background-color: white;padding-right: 0.2em;padding-left: 0.2em;position: relative;}#sk-container-id-14 div.sk-item {position: relative;z-index: 1;}#sk-container-id-14 div.sk-parallel {display: flex;align-items: stretch;justify-content: center;background-color: white;position: relative;}#sk-container-id-14 div.sk-item::before, #sk-container-id-14 div.sk-parallel-item::before {content: \"\";position: absolute;border-left: 1px solid gray;box-sizing: border-box;top: 0;bottom: 0;left: 50%;z-index: -1;}#sk-container-id-14 div.sk-parallel-item {display: flex;flex-direction: column;z-index: 1;position: relative;background-color: white;}#sk-container-id-14 div.sk-parallel-item:first-child::after {align-self: flex-end;width: 50%;}#sk-container-id-14 div.sk-parallel-item:last-child::after {align-self: flex-start;width: 50%;}#sk-container-id-14 div.sk-parallel-item:only-child::after {width: 0;}#sk-container-id-14 div.sk-dashed-wrapped {border: 1px dashed gray;margin: 0 0.4em 0.5em 0.4em;box-sizing: border-box;padding-bottom: 0.4em;background-color: white;}#sk-container-id-14 div.sk-label label {font-family: monospace;font-weight: bold;display: inline-block;line-height: 1.2em;}#sk-container-id-14 div.sk-label-container {text-align: center;}#sk-container-id-14 div.sk-container {/* jupyter's `normalize.less` sets `[hidden] { display: none; }` but bootstrap.min.css set `[hidden] { display: none !important; }` so we also need the `!important` here to be able to override the default hidden behavior on the sphinx rendered scikit-learn.org. See: https://github.com/scikit-learn/scikit-learn/issues/21755 */display: inline-block !important;position: relative;}#sk-container-id-14 div.sk-text-repr-fallback {display: none;}</style><div id=\"sk-container-id-14\" class=\"sk-top-container\"><div class=\"sk-text-repr-fallback\"><pre>MultiOutputRegressor(estimator=MLPRegressor(alpha=0.01,\n",
       "                                            hidden_layer_sizes=(128, 64, 32)))</pre><b>In a Jupyter environment, please rerun this cell to show the HTML representation or trust the notebook. <br />On GitHub, the HTML representation is unable to render, please try loading this page with nbviewer.org.</b></div><div class=\"sk-container\" hidden><div class=\"sk-item sk-dashed-wrapped\"><div class=\"sk-label-container\"><div class=\"sk-label sk-toggleable\"><input class=\"sk-toggleable__control sk-hidden--visually\" id=\"sk-estimator-id-40\" type=\"checkbox\" ><label for=\"sk-estimator-id-40\" class=\"sk-toggleable__label sk-toggleable__label-arrow\">MultiOutputRegressor</label><div class=\"sk-toggleable__content\"><pre>MultiOutputRegressor(estimator=MLPRegressor(alpha=0.01,\n",
       "                                            hidden_layer_sizes=(128, 64, 32)))</pre></div></div></div><div class=\"sk-parallel\"><div class=\"sk-parallel-item\"><div class=\"sk-item\"><div class=\"sk-label-container\"><div class=\"sk-label sk-toggleable\"><input class=\"sk-toggleable__control sk-hidden--visually\" id=\"sk-estimator-id-41\" type=\"checkbox\" ><label for=\"sk-estimator-id-41\" class=\"sk-toggleable__label sk-toggleable__label-arrow\">estimator: MLPRegressor</label><div class=\"sk-toggleable__content\"><pre>MLPRegressor(alpha=0.01, hidden_layer_sizes=(128, 64, 32))</pre></div></div></div><div class=\"sk-serial\"><div class=\"sk-item\"><div class=\"sk-estimator sk-toggleable\"><input class=\"sk-toggleable__control sk-hidden--visually\" id=\"sk-estimator-id-42\" type=\"checkbox\" ><label for=\"sk-estimator-id-42\" class=\"sk-toggleable__label sk-toggleable__label-arrow\">MLPRegressor</label><div class=\"sk-toggleable__content\"><pre>MLPRegressor(alpha=0.01, hidden_layer_sizes=(128, 64, 32))</pre></div></div></div></div></div></div></div></div></div></div>"
      ],
      "text/plain": [
       "MultiOutputRegressor(estimator=MLPRegressor(alpha=0.01,\n",
       "                                            hidden_layer_sizes=(128, 64, 32)))"
      ]
     },
     "execution_count": 164,
     "metadata": {},
     "output_type": "execute_result"
    }
   ],
   "source": [
    "from sklearn.neural_network import MLPRegressor\n",
    "\n",
    "mlp_regressor = MultiOutputRegressor(MLPRegressor(hidden_layer_sizes=(128, 64, 32), alpha=0.01))\n",
    "mlp_regressor.fit(X_train, Y_train)"
   ]
  },
  {
   "cell_type": "code",
   "execution_count": 165,
   "metadata": {},
   "outputs": [
    {
     "name": "stdout",
     "output_type": "stream",
     "text": [
      "Root Mean Squared Error (RMSE): 0.14349250306462075\n"
     ]
    }
   ],
   "source": [
    "Y_pred_mlp = mlp_regressor.predict(X_test)\n",
    "\n",
    "rmse = mean_squared_error(Y_test, Y_pred_mlp) ** 0.5\n",
    "print(\"Root Mean Squared Error (RMSE):\", rmse)"
   ]
  },
  {
   "cell_type": "code",
   "execution_count": 167,
   "metadata": {},
   "outputs": [
    {
     "data": {
      "text/plain": [
       "['mlp_regressor.joblib']"
      ]
     },
     "execution_count": 167,
     "metadata": {},
     "output_type": "execute_result"
    }
   ],
   "source": [
    "# Save model for tictactoe .py file\n",
    "from joblib import dump\n",
    "\n",
    "# Assuming mlp_regressor is your trained model\n",
    "dump(mlp_regressor, 'mlp_regressor.joblib')"
   ]
  }
 ],
 "metadata": {
  "kernelspec": {
   "display_name": "Python 3",
   "language": "python",
   "name": "python3"
  },
  "language_info": {
   "codemirror_mode": {
    "name": "ipython",
    "version": 3
   },
   "file_extension": ".py",
   "mimetype": "text/x-python",
   "name": "python",
   "nbconvert_exporter": "python",
   "pygments_lexer": "ipython3",
   "version": "3.11.8"
  }
 },
 "nbformat": 4,
 "nbformat_minor": 2
}
